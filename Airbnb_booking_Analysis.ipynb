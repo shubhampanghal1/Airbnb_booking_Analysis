{
  "cells": [
    {
      "cell_type": "markdown",
      "metadata": {
        "id": "view-in-github",
        "colab_type": "text"
      },
      "source": [
        "<a href=\"https://colab.research.google.com/github/shubhampanghal1/Airbnb_booking_Analysis/blob/main/Airbnb_booking_Analysis.ipynb\" target=\"_parent\"><img src=\"https://colab.research.google.com/assets/colab-badge.svg\" alt=\"Open In Colab\"/></a>"
      ]
    },
    {
      "cell_type": "markdown",
      "metadata": {
        "id": "vncDsAP0Gaoa"
      },
      "source": [
        "# **Project Name**    - Airbnb Booking Analysis\n",
        "\n"
      ]
    },
    {
      "cell_type": "markdown",
      "metadata": {
        "id": "beRrZCGUAJYm"
      },
      "source": [
        "##### **Project Type**    - Exploratory Data Analysis\n",
        "##### **Contribution**    - Individual\n",
        "##### **Team Member 1 -** Shubham Panghal"
      ]
    },
    {
      "cell_type": "markdown",
      "metadata": {
        "id": "FJNUwmbgGyua"
      },
      "source": [
        "# **Project Summary -**"
      ]
    },
    {
      "cell_type": "markdown",
      "metadata": {
        "id": "F6v_1wHtG2nS"
      },
      "source": [
        "The aim of our analysis was to understand the factors influencing Airbnb prices in New York City and to identify patterns among all variables. This project involved thorough exploration and cleaning of a dataset to ensure it was ready for analysis. During data exploration, we examined characteristics such as data types, missing values, and value distributions. The cleaning process focused on addressing issues like errors, missing data, and duplicates, while also removing outliers.\n",
        "\n",
        "By meticulously preparing the data, we ensured it was of high quality and unbiased, laying a solid foundation for our analysis. With clean data in hand, we proceeded to summarize and explore it using descriptive statistics and visualizations. This allowed us to uncover patterns and trends, and to develop insights into relationships between different variables.\n",
        "\n",
        "Through data visualization, we created various graphs and charts to better understand the data. Each visualization was accompanied by observations that helped us extract useful insights and identify significant patterns, such as the impact of factors like minimum nights, number of reviews, and host listing count on prices, as well as the variability of availability across neighborhoods.\n",
        "\n",
        "The insights gained from this analysis are valuable for travelers seeking accommodation in New York City and for hosts looking to optimize their Airbnb listings. They provide a foundation for informed decision-making and future analyses related to Airbnb business strategies."
      ]
    },
    {
      "cell_type": "markdown",
      "metadata": {
        "id": "w6K7xa23Elo4"
      },
      "source": [
        "# **GitHub Link -**"
      ]
    },
    {
      "cell_type": "markdown",
      "metadata": {
        "id": "h1o69JH3Eqqn"
      },
      "source": [
        "https://github.com/shubhampanghal1/Airbnb_booking_analysis"
      ]
    },
    {
      "cell_type": "markdown",
      "metadata": {
        "id": "yQaldy8SH6Dl"
      },
      "source": [
        "# **Problem Statement**\n"
      ]
    },
    {
      "cell_type": "markdown",
      "metadata": {
        "id": "DpeJGUA3kjGy"
      },
      "source": [
        "1.What are the most popular neighborhoods for Airbnb rentals in New York City, and how do prices and availability vary by neighborhood?\n",
        "\n",
        "2.How has the Airbnb market in New York City changed over time in terms of listings, prices, and occupancy rates?\n",
        "\n",
        "3.Are there patterns or trends in the types of properties rented out on Airbnb in New York City? Are certain types more popular or expensive?\n",
        "\n",
        "4.What factors correlate with the prices of Airbnb rentals in New York City?\n",
        "\n",
        "5.Where is the best area in New York City for a host to buy property at a good price with high traffic?\n",
        "\n",
        "6.How do lengths of stay for Airbnb rentals vary by neighborhood in New York City?\n",
        "\n",
        "7.How do the ratings of Airbnb rentals in New York City compare to their prices? Are higher-priced rentals more likely to have higher ratings?\n",
        "\n",
        "8.Find the total numbers of reviews and maximum reviews by each neighborhood group.\n",
        "\n",
        "9.Determine the most reviewed room type in each neighborhood group per month.\n",
        "\n",
        "10.Identify the best location for travelers based on Airbnb listings/property locations.\n",
        "\n",
        "11.Identify the best location for hosts to purchase property based on Airbnb demand and pricing.\n",
        "\n",
        "12.Analyze price variations across neighborhood groups in New York City."
      ]
    },
    {
      "cell_type": "markdown",
      "metadata": {
        "id": "PH-0ReGfmX4f"
      },
      "source": [
        "#### **Define Your Business Objective?**"
      ]
    },
    {
      "cell_type": "markdown",
      "metadata": {
        "id": "PhDvGCAqmjP1"
      },
      "source": [
        "The main goal of this project is to enhance the client's Airbnb rental business in New York City by using data-driven strategies to boost occupancy rates, profitability, and guest satisfaction. By leveraging insights from market data, the objective is to increase occupancy rates, optimize revenue generation, and ensure excellent guest experiences. This approach aims to foster the success and expansion of the client's business within the competitive NYC Airbnb market."
      ]
    },
    {
      "cell_type": "markdown",
      "metadata": {
        "id": "mDgbUHAGgjLW"
      },
      "source": [
        "# **General Guidelines** : -  "
      ]
    },
    {
      "cell_type": "markdown",
      "metadata": {
        "id": "ZrxVaUj-hHfC"
      },
      "source": [
        "1.   Well-structured, formatted, and commented code is required.\n",
        "2.   Exception Handling, Production Grade Code & Deployment Ready Code will be a plus. Those students will be awarded some additional credits.\n",
        "     \n",
        "     The additional credits will have advantages over other students during Star Student selection.\n",
        "       \n",
        "             [ Note: - Deployment Ready Code is defined as, the whole .ipynb notebook should be executable in one go\n",
        "                       without a single error logged. ]\n",
        "\n",
        "3.   Each and every logic should have proper comments.\n",
        "4. You may add as many number of charts you want. Make Sure for each and every chart the following format should be answered.\n",
        "        \n",
        "\n",
        "```\n",
        "# Chart visualization code\n",
        "```\n",
        "            \n",
        "\n",
        "*   Why did you pick the specific chart?\n",
        "*   What is/are the insight(s) found from the chart?\n",
        "* Will the gained insights help creating a positive business impact?\n",
        "Are there any insights that lead to negative growth? Justify with specific reason.\n",
        "\n",
        "5. You have to create at least 20 logical & meaningful charts having important insights.\n",
        "\n",
        "\n",
        "[ Hints : - Do the Vizualization in  a structured way while following \"UBM\" Rule.\n",
        "\n",
        "U - Univariate Analysis,\n",
        "\n",
        "B - Bivariate Analysis (Numerical - Categorical, Numerical - Numerical, Categorical - Categorical)\n",
        "\n",
        "M - Multivariate Analysis\n",
        " ]\n",
        "\n",
        "\n",
        "\n"
      ]
    },
    {
      "cell_type": "markdown",
      "metadata": {
        "id": "O_i_v8NEhb9l"
      },
      "source": [
        "# ***Let's Begin !***"
      ]
    },
    {
      "cell_type": "markdown",
      "metadata": {
        "id": "HhfV-JJviCcP"
      },
      "source": [
        "## ***1. Know Your Data***"
      ]
    },
    {
      "cell_type": "markdown",
      "metadata": {
        "id": "Y3lxredqlCYt"
      },
      "source": [
        "### Import Libraries"
      ]
    },
    {
      "cell_type": "code",
      "execution_count": null,
      "metadata": {
        "id": "M8Vqi-pPk-HR"
      },
      "outputs": [],
      "source": [
        "# Import Libraries\n",
        "import pandas as pd\n",
        "import numpy as np\n",
        "\n",
        "# Import Visualization Libraries\n",
        "import matplotlib.pyplot as plt\n",
        "import seaborn as sns\n",
        "%matplotlib inline\n",
        "\n",
        "# Import warnings\n",
        "import warnings\n",
        "warnings.filterwarnings('ignore')"
      ]
    },
    {
      "cell_type": "code",
      "source": [
        "from google.colab import drive\n",
        "drive.mount('/content/drive')"
      ],
      "metadata": {
        "id": "9JVwwj-oe8cs"
      },
      "execution_count": null,
      "outputs": []
    },
    {
      "cell_type": "markdown",
      "metadata": {
        "id": "x71ZqKXriCWQ"
      },
      "source": [
        "### Dataset First View"
      ]
    },
    {
      "cell_type": "code",
      "execution_count": null,
      "metadata": {
        "id": "LWNFOSvLl09H"
      },
      "outputs": [],
      "source": [
        "Airbnb = pd.read_csv('/content/drive/MyDrive/Colab Notebooks/Airbnb NYC 2019.csv')"
      ]
    },
    {
      "cell_type": "markdown",
      "metadata": {
        "id": "7hBIi_osiCS2"
      },
      "source": [
        "### Dataset Rows & Columns count"
      ]
    },
    {
      "cell_type": "code",
      "execution_count": null,
      "metadata": {
        "id": "Kllu7SJgmLij"
      },
      "outputs": [],
      "source": [
        "# Dataset Rows & Columns count\n",
        "row_count, column_count = Airbnb.shape\n",
        "print(\"Number of columns:\", column_count)\n",
        "print(\"Number of rows:\", row_count)"
      ]
    },
    {
      "cell_type": "markdown",
      "metadata": {
        "id": "JlHwYmJAmNHm"
      },
      "source": [
        "### Dataset Information"
      ]
    },
    {
      "cell_type": "code",
      "execution_count": null,
      "metadata": {
        "id": "e9hRXRi6meOf"
      },
      "outputs": [],
      "source": [
        "# Dataset Info\n",
        "Airbnb.info()"
      ]
    },
    {
      "cell_type": "markdown",
      "metadata": {
        "id": "35m5QtbWiB9F"
      },
      "source": [
        "#### Duplicate Values"
      ]
    },
    {
      "cell_type": "code",
      "execution_count": null,
      "metadata": {
        "id": "jXhUaR9l2xYM"
      },
      "outputs": [],
      "source": [
        "# Checking if all id values are unique\n",
        "Airbnb['id'].nunique()"
      ]
    },
    {
      "cell_type": "code",
      "execution_count": null,
      "metadata": {
        "id": "1sLdpKYkmox0"
      },
      "outputs": [],
      "source": [
        "# Dataset Duplicate Value Count\n",
        "duplicate_count = Airbnb.duplicated().sum()\n",
        "print(\"Number of duplicate values:\", duplicate_count)"
      ]
    },
    {
      "cell_type": "markdown",
      "metadata": {
        "id": "PoPl-ycgm1ru"
      },
      "source": [
        "#### Missing Values/Null Values"
      ]
    },
    {
      "cell_type": "code",
      "execution_count": null,
      "metadata": {
        "id": "GgHWkxvamxVg"
      },
      "outputs": [],
      "source": [
        "# Check Missing Values/Null Values Count\n",
        "Airbnb.isnull().sum()"
      ]
    },
    {
      "cell_type": "code",
      "execution_count": null,
      "metadata": {
        "id": "GeOrXG4o2xYN"
      },
      "outputs": [],
      "source": [
        "#Displaying the Column name\n",
        "Airbnb.columns"
      ]
    },
    {
      "cell_type": "code",
      "execution_count": null,
      "metadata": {
        "id": "3q5wnI3om9sJ"
      },
      "outputs": [],
      "source": [
        "# Visualizing the missing values\n",
        "plt.figure(figsize=(7,4))\n",
        "sns.heatmap(Airbnb.isnull(), cbar=False, cmap='Purples')\n",
        "plt.title('Missing Values Heatmap')\n",
        "plt.show()"
      ]
    },
    {
      "cell_type": "markdown",
      "metadata": {
        "id": "H0kj-8xxnORC"
      },
      "source": [
        "### What did you know about your dataset?"
      ]
    },
    {
      "cell_type": "markdown",
      "metadata": {
        "id": "gfoNAAC-nUe_"
      },
      "source": [
        "This dataset comprises close to 49,000 records from New York City, encompassing 16 columns of data.\n",
        "\n",
        "It includes a mix of categorical and numeric variables, offering a wide array of insights into Airbnb listings.\n",
        "\n",
        "This dataset is valuable for exploring trends and patterns within the New York City Airbnb market, providing insights into user preferences and behaviors in the region.\n",
        "\n",
        "The dataset details Airbnb bookings in New York City during the year 2019, offering an opportunity to analyze usage trends and patterns within the NYC Airbnb market.\n"
      ]
    },
    {
      "cell_type": "markdown",
      "metadata": {
        "id": "nA9Y7ga8ng1Z"
      },
      "source": [
        "## ***2. Understanding Your Variables***"
      ]
    },
    {
      "cell_type": "code",
      "execution_count": null,
      "metadata": {
        "id": "j7xfkqrt5Ag5"
      },
      "outputs": [],
      "source": [
        "# Dataset Columns\n",
        "Airbnb.columns"
      ]
    },
    {
      "cell_type": "code",
      "execution_count": null,
      "metadata": {
        "id": "DnOaZdaE5Q5t"
      },
      "outputs": [],
      "source": [
        "# Dataset Describe\n",
        "Airbnb.describe().round(2)"
      ]
    },
    {
      "cell_type": "markdown",
      "metadata": {
        "id": "PBTbrJXOngz2"
      },
      "source": [
        "### Variables Description"
      ]
    },
    {
      "cell_type": "markdown",
      "metadata": {
        "id": "aJV4KIxSnxay"
      },
      "source": [
        "ID: Unique identifier for the Airbnb listing\n",
        "Name: Title of the Airbnb listing\n",
        "Host ID: Unique identifier for the host of the listing\n",
        "Host name: Name of the host\n",
        "Neighbourhood group: Borough or district where the listing is located\n",
        "Neighbourhood: Specific neighborhood or area within the borough\n",
        "Latitude: Latitude coordinates of the listing\n",
        "Longitude: Longitude coordinates of the listing\n",
        "Room type: Type of accommodation offered (e.g., entire home/apartment, private room, shared room)\n",
        "Price: Nightly price for the listing\n",
        "Minimum nights: Minimum number of nights required to book the listing\n",
        "Number_of_reviews: Total number of reviews for the listing\n",
        "Last_review: Date of the most recent review\n",
        "Reviews per month: Average number of reviews per month\n",
        "Calculated host listings count: Total number of listings managed by the host\n",
        "Availability 365: Number of days the listing is available for booking over a year"
      ]
    },
    {
      "cell_type": "markdown",
      "metadata": {
        "id": "u3PMJOP6ngxN"
      },
      "source": [
        "### Check Unique Values for each variable."
      ]
    },
    {
      "cell_type": "code",
      "execution_count": null,
      "metadata": {
        "id": "zms12Yq5n-jE"
      },
      "outputs": [],
      "source": [
        "# Check Unique Values for each variable.\n",
        "for a in Airbnb.columns.tolist():\n",
        "  print(\"No. of unique values in\",a,\"is\",Airbnb[a].nunique())"
      ]
    },
    {
      "cell_type": "markdown",
      "metadata": {
        "id": "dauF4eBmngu3"
      },
      "source": [
        "## 3. ***Data Wrangling***"
      ]
    },
    {
      "cell_type": "markdown",
      "metadata": {
        "id": "bKJF3rekwFvQ"
      },
      "source": [
        "### Data Wrangling Code"
      ]
    },
    {
      "cell_type": "code",
      "execution_count": null,
      "metadata": {
        "id": "wk-9a2fpoLcV"
      },
      "outputs": [],
      "source": [
        "# Write your code to make your dataset analysis ready.\n",
        "df2 = Airbnb.copy()"
      ]
    },
    {
      "cell_type": "code",
      "execution_count": null,
      "metadata": {
        "id": "jFVPSlU_2xYS"
      },
      "outputs": [],
      "source": [
        "#Counting the occurrences of rows with zero prices in our dataset.\n",
        "df2[df2.price==0].shape"
      ]
    },
    {
      "cell_type": "code",
      "execution_count": null,
      "metadata": {
        "id": "NdYn1Mo82xYS"
      },
      "outputs": [],
      "source": [
        "#To eliminate rows with zero price values from our dataset\n",
        "df2 = df2[df2['price'] !=0]"
      ]
    },
    {
      "cell_type": "code",
      "execution_count": null,
      "metadata": {
        "id": "gyqHQf852xYS"
      },
      "outputs": [],
      "source": [
        "#As 'name' and 'host_name' have fewer missing values compared to the entire dataset, we propose filling these gaps with 'unknown' for 'name' and 'no_name' for 'host_name'.\n",
        "df2['name'].fillna('unknown',inplace=True)\n",
        "df2['host_name'].fillna('anonymous',inplace=True)"
      ]
    },
    {
      "cell_type": "code",
      "execution_count": null,
      "metadata": {
        "id": "0Ddi4Icv2xYS"
      },
      "outputs": [],
      "source": [
        "#Verify if there are any remaining null values.\n",
        "df2[['host_name','name']].isnull().values.any()"
      ]
    },
    {
      "cell_type": "code",
      "execution_count": null,
      "metadata": {
        "id": "qMBmLF3Z2xYT"
      },
      "outputs": [],
      "source": [
        "#Replace null values in the reviews_per_month column with 0.\n",
        "df2['reviews_per_month'] = Airbnb['reviews_per_month'].fillna(0)"
      ]
    },
    {
      "cell_type": "code",
      "execution_count": null,
      "metadata": {
        "id": "Fz-R8HUu2xYT"
      },
      "outputs": [],
      "source": [
        "# remove last_review column\n",
        "df2.drop(['last_review'], axis=1, inplace=True)"
      ]
    },
    {
      "cell_type": "code",
      "execution_count": null,
      "metadata": {
        "id": "0J0WWkpa2xYT"
      },
      "outputs": [],
      "source": [
        "#Verify the change in shape.\n",
        "df2.shape"
      ]
    },
    {
      "cell_type": "code",
      "execution_count": null,
      "metadata": {
        "id": "aXctVQr_2xYT"
      },
      "outputs": [],
      "source": [
        "#Verify the modifications.\n",
        "df2.isnull().sum()"
      ]
    },
    {
      "cell_type": "markdown",
      "metadata": {
        "id": "a7sdUHoE2xYT"
      },
      "source": [
        "# Handling the outliers"
      ]
    },
    {
      "cell_type": "markdown",
      "metadata": {
        "id": "z8AB6CC12xYT"
      },
      "source": [
        "Outliers in the price column"
      ]
    },
    {
      "cell_type": "code",
      "execution_count": null,
      "metadata": {
        "id": "3KQds-Zj2xYT"
      },
      "outputs": [],
      "source": [
        "#'price' column Boxplot\n",
        "sns.boxplot(df2['price'], color='grey')"
      ]
    },
    {
      "cell_type": "markdown",
      "metadata": {
        "id": "RBEaZtHy2xYT"
      },
      "source": [
        "Remove outliers using the IQR (Interquartile Range) method."
      ]
    },
    {
      "cell_type": "code",
      "execution_count": null,
      "metadata": {
        "id": "h2NWpElf2xYU"
      },
      "outputs": [],
      "source": [
        "# Calculate IQR and boundaries\n",
        "Q1 = df2['price'].quantile(0.25)\n",
        "Q3 = df2['price'].quantile(0.75)\n",
        "IQR = Q3 - Q1\n",
        "lower_boundary = Q1 - 1.5 * IQR\n",
        "upper_boundary = Q3 + 1.5 * IQR\n",
        "\n",
        "# Filter the dataset to remove outliers\n",
        "df2 = df2[(df2['price'] >= lower_boundary) & (df2['price'] <= upper_boundary)]"
      ]
    },
    {
      "cell_type": "code",
      "execution_count": null,
      "metadata": {
        "id": "R4NBibv52xYU"
      },
      "outputs": [],
      "source": [
        "sns.boxplot(df2['price'], color='blue')"
      ]
    },
    {
      "cell_type": "code",
      "execution_count": null,
      "metadata": {
        "id": "ek6i1dtv2xYU"
      },
      "outputs": [],
      "source": [
        "#'price' column  Distribution Plot\n",
        "sns.distplot(df2['price'], color='green')\n"
      ]
    },
    {
      "cell_type": "markdown",
      "metadata": {
        "id": "a96GP23Z2xYU"
      },
      "source": [
        "Removing outliers from the \"minimum nights\" column."
      ]
    },
    {
      "cell_type": "code",
      "execution_count": null,
      "metadata": {
        "id": "KE-0tR1T2xYU"
      },
      "outputs": [],
      "source": [
        "# Calculate  boundaries and IQR\n",
        "Q1 = df2['minimum_nights'].quantile(0.25)\n",
        "Q3 = df2['minimum_nights'].quantile(0.75)\n",
        "IQR = Q3 - Q1\n",
        "lower_boundary = Q1 - 1.5 * IQR\n",
        "upper_boundary = Q3 + 1.5 * IQR\n",
        "\n",
        "# Filter dataset for removing outliers\n",
        "df2 = df2[(df2['minimum_nights'] >= lower_boundary) & (df2['minimum_nights'] <= upper_boundary)]"
      ]
    },
    {
      "cell_type": "code",
      "execution_count": null,
      "metadata": {
        "id": "Cj8fZxwX2xYV"
      },
      "outputs": [],
      "source": [
        "# Boxplot of 'minimum_nights' column without outliers\n",
        "sns.boxplot(df2['minimum_nights'], color='red')\n"
      ]
    },
    {
      "cell_type": "code",
      "execution_count": null,
      "metadata": {
        "id": "jWqUNxAi2xYV"
      },
      "outputs": [],
      "source": [
        "# 'minimum_nights' column distribution plot\n",
        "sns.distplot(df2['minimum_nights'], color='blue')\n"
      ]
    },
    {
      "cell_type": "markdown",
      "metadata": {
        "id": "MSa1f5Uengrz"
      },
      "source": [
        "### What all manipulations have you done and insights you found?"
      ]
    },
    {
      "cell_type": "markdown",
      "metadata": {
        "id": "LbyXE7I1olp8"
      },
      "source": [
        "##Manipulations\n",
        "We started by creating a copy of the dataframe to ensure we had a backup in case of errors. Following this, we identified and addressed listings where the price was listed as $0, which is typically anomalous. We then focused on handling missing data, specifically in the 'name', 'host_name', and 'reviews_per_month' columns. Additionally, we chose to drop the 'last_reviews' column from our dataset.\n",
        "\n",
        "Subsequently, we verified that all null values had been appropriately handled, resulting in a cleaned dataframe with dimensions of 48884 rows and 15 columns. Moving forward, we utilized the Interquartile Range (IQR) method to manage outliers, which were notable in the 'price' and 'minimum_nights' columns as observed in our box plot analysis."
      ]
    },
    {
      "cell_type": "markdown",
      "metadata": {
        "id": "ny9gti262xYW"
      },
      "source": [
        "#Insights\n",
        "We calculated both the mean and median values for all data points within a specific neighborhood group. Interestingly, we observed that the mean and median values for the 'price' column typically fall within a similar range."
      ]
    },
    {
      "cell_type": "markdown",
      "metadata": {
        "id": "GF8Ens_Soomf"
      },
      "source": [
        "## ***4. Data Vizualization, Storytelling & Experimenting with charts : Understand the relationships between variables***"
      ]
    },
    {
      "cell_type": "markdown",
      "metadata": {
        "id": "0wOQAZs5pc--"
      },
      "source": [
        "#### Chart - 1 Columnwise box and histogram plot"
      ]
    },
    {
      "cell_type": "code",
      "execution_count": null,
      "metadata": {
        "id": "7v_ESjsspbW7"
      },
      "outputs": [],
      "source": [
        "# Chart - 1 visualization code\n",
        "\n",
        "for col in df2.describe().columns:\n",
        "    fig, axes = plt.subplots(nrows=1, ncols=2, figsize=(18, 6))\n",
        "\n",
        "    # Histogram plot\n",
        "    sns.histplot(df2[col], ax=axes[0], kde=True, color='#05204a', edgecolor='white')\n",
        "    axes[0].set_xlabel(col)\n",
        "    axes[0].set_ylabel('Frequency')\n",
        "    axes[0].set_title(\"Distribution of \" + col, fontsize=15)\n",
        "    axes[0].grid(True, linestyle='--')\n",
        "\n",
        "    # Boxplot\n",
        "    sns.boxplot(df2[col], ax=axes[1], orient='h', showmeans=True, color='#cafe48')\n",
        "    axes[1].set_xlabel(col)\n",
        "    axes[1].set_ylabel('')\n",
        "    axes[1].set_title(\"Boxplot of \" + col, fontsize=15)\n",
        "    axes[1].grid(True, linestyle='--')\n",
        "\n",
        "    # Adjust spacing between subplots\n",
        "    plt.tight_layout()\n",
        "\n",
        "    # Show the plots\n",
        "    plt.show()"
      ]
    },
    {
      "cell_type": "markdown",
      "metadata": {
        "id": "K5QZ13OEpz2H"
      },
      "source": [
        "##### 1. Why did you pick the specific chart?"
      ]
    },
    {
      "cell_type": "markdown",
      "metadata": {
        "id": "XESiWehPqBRc"
      },
      "source": [
        "A histogram is a graphical representation used to depict the distribution of a dataset, showing the frequency of occurrence for each value or group of values. It provides insights into the dataset's distribution characteristics, helping to identify patterns and outliers, particularly useful with larger datasets (exceeding 100 observations).\n",
        "\n",
        "Conversely, a box plot summarizes key statistical metrics such as the median, quartiles, and range within a single plot. It effectively identifies outliers, compares multiple datasets, and illustrates data dispersion. Box plots are essential in statistical analysis and visualization.\n",
        "\n",
        "Therefore, I utilized histogram plots to analyze the distributions of variables across the entire dataset, assessing symmetry where applicable. Additionally, for each numerical variable in the dataset, I employed box plots to examine outliers, interquartile ranges, and key metrics including the median, maximum, and minimum values."
      ]
    },
    {
      "cell_type": "markdown",
      "metadata": {
        "id": "lQ7QKXXCp7Bj"
      },
      "source": [
        "##### 2. What is/are the insight(s) found from the chart?"
      ]
    },
    {
      "cell_type": "markdown",
      "metadata": {
        "id": "C_j1G7yiqdRP"
      },
      "source": [
        "Based on the distribution charts, it's evident that not all columns exhibit symmetric distributions. For numerical columns specifically, we observe that the mean and median values tend to align closely."
      ]
    },
    {
      "cell_type": "markdown",
      "metadata": {
        "id": "448CDAPjqfQr"
      },
      "source": [
        "##### 3. Will the gained insights help creating a positive business impact?\n",
        "Are there any insights that lead to negative growth? Justify with specific reason."
      ]
    },
    {
      "cell_type": "markdown",
      "metadata": {
        "id": "3cspy4FjqxJW"
      },
      "source": [
        "Histograms and box plots provide valuable insights into the distribution characteristics of data within columns across a dataset. They are primarily used to visualize how data is distributed and to identify any outliers or patterns within the dataset."
      ]
    },
    {
      "cell_type": "markdown",
      "metadata": {
        "id": "KSlN3yHqYklG"
      },
      "source": [
        "#### Chart - 2"
      ]
    },
    {
      "cell_type": "markdown",
      "metadata": {
        "id": "R4YgtaqtYklH"
      },
      "source": [
        "## Average price of each neighbourhood group?"
      ]
    },
    {
      "cell_type": "code",
      "execution_count": null,
      "metadata": {
        "id": "6hFir4gE2xYY"
      },
      "outputs": [],
      "source": [
        "# Chart - 2 visltn code\n",
        "# Group the dataset by \"Neighbourhood group\" and calculate the average price\n",
        "neighborhood_avg_price = df2.groupby('neighbourhood_group')['price'].mean()\n",
        "\n",
        "# Set the style of the plot\n",
        "sns.set(style=\"whitegrid\")\n",
        "\n",
        "# Create a bar plot with custom color palette\n",
        "plt.figure(figsize=(10, 6))\n",
        "colors = ['#272932', '#f05d5e', '#0f7173', '#9fc2cc', '#dbc648']\n",
        "ax = sns.barplot(x=neighborhood_avg_price.index, y=neighborhood_avg_price, palette=colors)\n",
        "\n",
        "# Set the title and axis labels\n",
        "plt.title('Neighbourhood Group vs. Average Price', fontsize=16)\n",
        "plt.xlabel('Neighbourhood Group', fontsize=12)\n",
        "plt.ylabel('Average Price', fontsize=12)\n",
        "plt.xticks(rotation=30)\n",
        "\n",
        "# Add value labels on top of each bar\n",
        "for p in ax.patches:\n",
        "    ax.annotate(format(p.get_height(), '.2f'), (p.get_x() + p.get_width() / 2., p.get_height()), ha='center', va='center', xytext=(0, 5), textcoords='offset points', fontsize=10)\n",
        "\n",
        "# Remove the top and right spines\n",
        "sns.despine()\n",
        "\n",
        "#display the plot\n",
        "plt.tight_layout()\n",
        "plt.show()"
      ]
    },
    {
      "cell_type": "markdown",
      "metadata": {
        "id": "t6dVpIINYklI"
      },
      "source": [
        "##### 1. Why did you pick the specific chart?"
      ]
    },
    {
      "cell_type": "markdown",
      "metadata": {
        "id": "5aaW0BYyYklI"
      },
      "source": [
        "A bar plot is a useful visualization method for comparing the average prices across various neighborhood groups in the Airbnb 2019 NYC dataset. Each neighborhood group is represented by a separate bar, where the height of each bar corresponds to its average price. This visual representation enables straightforward interpretation and facilitates the identification of price trends. Viewers can easily compare the heights of the bars to discern which neighborhood groups generally command higher or lower average prices. The simplicity and clarity of a bar plot make it an effective tool for analyzing and gaining insights into the average prices among different neighborhood groups in the dataset."
      ]
    },
    {
      "cell_type": "markdown",
      "metadata": {
        "id": "ijmpgYnKYklI"
      },
      "source": [
        "##### 2. What is/are the insight(s) found from the chart?"
      ]
    },
    {
      "cell_type": "markdown",
      "metadata": {
        "id": "PSx9atu2YklI"
      },
      "source": [
        "Examining the average prices across different neighborhood groups in the Airbnb 2019 NYC dataset through a bar plot offers valuable insights. By visually comparing bar heights, we can discern which neighborhoods generally have higher or lower average prices. This information is essential for both hosts and guests alike. Hosts can adjust their pricing strategies based on neighborhoods known for commanding higher prices, while guests can make informed booking decisions aligned with their budget and preferences. The ordered arrangement of bars can unveil trends, highlighting consistent higher or lower average prices across specific neighborhood groups. Such analysis aids stakeholders in the Airbnb market in understanding price disparities among neighborhood groups, empowering them to make informed, data-driven decisions to enhance their experiences in the NYC market."
      ]
    },
    {
      "cell_type": "markdown",
      "metadata": {
        "id": "-JiQyfWJYklI"
      },
      "source": [
        "##### 3. Will the gained insights help creating a positive business impact?\n",
        "Are there any insights that lead to negative growth? Justify with specific reason."
      ]
    },
    {
      "cell_type": "markdown",
      "metadata": {
        "id": "BcBbebzrYklV"
      },
      "source": [
        "Analyzing neighborhood average prices can positively impact business strategies for hosts, allowing them to set prices strategically and enhance profitability. It also aids guests in finding suitable accommodations within their budget constraints. Lower average prices in specific neighborhoods might indicate lower demand or less attractive features, prompting hosts to consider additional factors like location amenities and listing uniqueness beyond price alone. Focusing solely on high-priced neighborhoods could increase competition and potentially lower prices due to market saturation. Therefore, maintaining competitive pricing strategies across diverse neighborhoods helps mitigate risks associated with price variations and optimizes listing appeal to a broader guest base. These insights empower hosts to optimize their offerings effectively."
      ]
    },
    {
      "cell_type": "markdown",
      "metadata": {
        "id": "EM7whBJCYoAo"
      },
      "source": [
        "#### Chart - 3"
      ]
    },
    {
      "cell_type": "code",
      "execution_count": null,
      "metadata": {
        "id": "t6GMdE67YoAp"
      },
      "outputs": [],
      "source": [
        "# Chart - 3 visualization code\n",
        "#using a pivot plot\n",
        "df2_pivot = pd.pivot_table(df2, index=['neighbourhood_group'], values='id', aggfunc=['count'], margins=True, margins_name='Total Count')\n",
        "df2_pivot"
      ]
    },
    {
      "cell_type": "code",
      "execution_count": null,
      "metadata": {
        "id": "L424RjHP2xYZ"
      },
      "outputs": [],
      "source": [
        "df3 = df2.groupby('neighbourhood_group')['id'].count()\n",
        "\n",
        "plt.figure(figsize=(10, 8))\n",
        "colors = ['#272932', '#f05d5e', '#0f7173', '#9fc2cc', '#dbc648']\n",
        "\n",
        "explode = (0, 0, 0.1, 0, 0)  # Explode the first slice for emphasis\n",
        "\n",
        "sns.set(style='whitegrid')\n",
        "sns.set_palette(sns.color_palette(colors))\n",
        "\n",
        "df3.plot.pie(labels=df3.index, autopct='%1.0f%%', startangle=0, explode=explode,\n",
        "             wedgeprops=dict(width=0.3), shadow=True)\n",
        "\n",
        "plt.ylabel('Neighbourhood Group', fontsize=12)\n",
        "plt.title('Total Listings by Neighbourhood Group', fontsize=16)\n",
        "\n",
        "plt.axis('equal')  # Equal aspect ratio ensures a circular pie\n",
        "\n",
        "plt.show()"
      ]
    },
    {
      "cell_type": "markdown",
      "metadata": {
        "id": "fge-S5ZAYoAp"
      },
      "source": [
        "##### 1. Why did you pick the specific chart?"
      ]
    },
    {
      "cell_type": "markdown",
      "metadata": {
        "id": "5dBItgRVYoAp"
      },
      "source": [
        "A pie chart is an effective visualization for identifying the neighborhood group with the largest number of listings in the Airbnb 2019 NYC dataset. Each slice in the pie chart represents a neighborhood group, with the size of each slice proportional to the relative number of listings. Comparing the sizes of these slices quickly reveals which neighborhood group has the highest number of listings. The simplicity and intuitive nature of a pie chart make it easy for viewers to understand the distribution of listings and identify the most popular neighborhood group for accommodations in NYC."
      ]
    },
    {
      "cell_type": "markdown",
      "metadata": {
        "id": "85gYPyotYoAp"
      },
      "source": [
        "##### 2. What is/are the insight(s) found from the chart?"
      ]
    },
    {
      "cell_type": "markdown",
      "metadata": {
        "id": "4jstXR6OYoAp"
      },
      "source": [
        "Visualizing the distribution of listings through a pie chart offers a clear and proportional representation of each neighborhood group's share.\n",
        "\n",
        "This visualization method helps pinpoint the neighborhood group with the highest number of listings, signaling its popularity and demand among hosts and guests alike.\n",
        "\n",
        "Hosts can use this data to refine their listing strategies, focusing on neighborhoods that are most in demand. This targeted approach can potentially boost booking rates and profitability.\n",
        "\n",
        "For guests, understanding which neighborhood group offers a broader selection and better availability enables them to find accommodations that best match their preferences and requirements.\n",
        "\n",
        "Analyzing the insights derived from the pie chart facilitates a deeper understanding of the dynamics within the NYC Airbnb market. It allows stakeholders to identify potential opportunities for business growth and make informed decisions based on the popularity and demand for accommodations across different neighborhoods.\n",
        "\n",
        "By aligning their strategies and choices with the observed trends in listing distribution, both hosts and guests can optimize their experiences and outcomes in the market."
      ]
    },
    {
      "cell_type": "markdown",
      "metadata": {
        "id": "RoGjAbkUYoAp"
      },
      "source": [
        "##### 3. Will the gained insights help creating a positive business impact?\n",
        "Are there any insights that lead to negative growth? Justify with specific reason."
      ]
    },
    {
      "cell_type": "markdown",
      "metadata": {
        "id": "zfJ8IqMcYoAp"
      },
      "source": [
        "Analyzing how listings are distributed across neighborhood groups offers valuable insights into the popularity and competitiveness of different areas within the Airbnb market.\n",
        "\n",
        "Focusing marketing efforts and optimizing listings based on the most popular neighborhood group can enhance hosts' chances of increasing bookings and profitability. However, depending solely on the most popular neighborhood group may lead to issues like oversupply, heightened competition, and potential decreases in prices and profitability. It could also limit diversity and opportunities for hosts in other neighborhoods.\n",
        "\n",
        "To mitigate these risks, hosts should consider various factors beyond the sheer number of listings, such as location amenities and unique neighborhood features. Maintaining a balanced approach by diversifying listings across multiple neighborhood groups can help reduce concentration risks.\n",
        "\n",
        "Adapting to market dynamics involves monitoring trends and identifying emerging neighborhood groups to ensure sustainable growth. Hosts should continually evaluate and adjust their strategies in response to changes in demand, competition, and guest preferences. This approach allows hosts to optimize their business performance while navigating the evolving dynamics of the Airbnb market effectively."
      ]
    },
    {
      "cell_type": "markdown",
      "metadata": {
        "id": "4Of9eVA-YrdM"
      },
      "source": [
        "#### Chart - 4"
      ]
    },
    {
      "cell_type": "markdown",
      "metadata": {
        "id": "DttvFsnr2xYa"
      },
      "source": [
        "# What is the relationship between average availability and price?"
      ]
    },
    {
      "cell_type": "code",
      "execution_count": null,
      "metadata": {
        "id": "irlUoxc8YrdO"
      },
      "outputs": [],
      "source": [
        "# chart-4 visualization code\n",
        "\n",
        "# Group the data by 'neighbourhood_group' and calculate the average availability\n",
        "availability_by_group = df2.groupby('price')['availability_365'].mean()\n",
        "\n",
        "# Create a bar plot\n",
        "plt.figure(figsize=(10, 6))\n",
        "sns.lineplot(x=availability_by_group.index, y=availability_by_group.values, color='#f05d5e')\n",
        "\n",
        "# Set the title and axis labels\n",
        "plt.title('Average Availability of Listings by Price')\n",
        "plt.xlabel('Price')\n",
        "plt.ylabel('Average Availability (in days)')\n",
        "\n",
        "# Display the plot\n",
        "plt.show()"
      ]
    },
    {
      "cell_type": "markdown",
      "metadata": {
        "id": "iky9q4vBYrdO"
      },
      "source": [
        "##### 1. Why did you pick the specific chart?"
      ]
    },
    {
      "cell_type": "markdown",
      "metadata": {
        "id": "aJRCwT6DYrdO"
      },
      "source": [
        "Using a line plot, we can examine how the average availability of accommodations across various neighborhood groups correlates with their respective price ranges. This visualization helps stakeholders, including hosts and guests, to understand the impact of price on availability within the Airbnb 2019 NYC dataset, enabling them to make well-informed decisions based on this relationship."
      ]
    },
    {
      "cell_type": "markdown",
      "metadata": {
        "id": "F6T5p64dYrdO"
      },
      "source": [
        "##### 2. What is/are the insight(s) found from the chart?"
      ]
    },
    {
      "cell_type": "markdown",
      "metadata": {
        "id": "Xx8WAJvtYrdO"
      },
      "source": [
        "The line plot visually represents how the availability of listings changes across different price points within each neighborhood group.\n",
        "\n",
        "Through analysis of the plot, we can discern whether higher prices correlate with increased or decreased availability within specific neighborhood groups.\n",
        "\n",
        "It helps pinpoint neighborhood groups where availability consistently remains high across various price ranges, indicating a greater likelihood of finding accommodations in those areas.\n",
        "\n",
        "Identifying optimal price ranges for maximizing availability involves examining the peaks and troughs of the line plot within each neighborhood group.\n",
        "\n",
        "Comparing availability-price patterns across neighborhood groups provides insights into variations in how availability responds to changes in price, offering a deeper understanding of market dynamics.\n",
        "\n",
        "These insights support decision-making for both hosts and guests. Hosts can refine their pricing strategies to optimize availability and occupancy rates within targeted neighborhood groups. Guests can leverage this information to identify price ranges where availability is abundant, facilitating informed booking decisions."
      ]
    },
    {
      "cell_type": "markdown",
      "metadata": {
        "id": "y-Ehk30pYrdP"
      },
      "source": [
        "##### 3. Will the gained insights help creating a positive business impact?\n",
        "Are there any insights that lead to negative growth? Justify with specific reason."
      ]
    },
    {
      "cell_type": "markdown",
      "metadata": {
        "id": "jLNxxz7MYrdP"
      },
      "source": [
        "The line plot helps hosts understand how price influences availability within each neighborhood group. This understanding allows hosts to set prices strategically to achieve both high availability and profitability. By identifying the optimal price range, hosts can enhance their appeal to guests, thereby increasing occupancy rates."
      ]
    },
    {
      "cell_type": "markdown",
      "metadata": {
        "id": "bamQiAODYuh1"
      },
      "source": [
        "#### Chart - 5"
      ]
    },
    {
      "cell_type": "markdown",
      "metadata": {
        "id": "IdnjJUEk2xYb"
      },
      "source": [
        "## What are the average prices of Airbnb listings in NYC in 2019, segmented by room type?"
      ]
    },
    {
      "cell_type": "code",
      "execution_count": null,
      "metadata": {
        "id": "TIJwrbroYuh3"
      },
      "outputs": [],
      "source": [
        "# Chart - 5 visualization code\n",
        "# Select relevant columns\n",
        "df = df2[['neighbourhood_group', 'room_type', 'price']]\n",
        "\n",
        "# Group data by room_type and  neighbourhood_group, and calculate mean price\n",
        "df = df.groupby(['neighbourhood_group', 'room_type'], as_index=False)[['price']].mean()\n",
        "\n",
        "# Create a fig and set theme to white\n",
        "plt.figure(figsize=(12, 6))\n",
        "sns.set_theme(style='white')\n",
        "\n",
        "# create palette.\n",
        "my_pal = {'Entire home/apt': '#f05f5e', 'Private room': '#ead94c', 'Shared room': '#0f7173'}\n",
        "\n",
        "# Creating bar plot with x as neighbourhood_group, y as price, hue as room_type, and using custom color palette\n",
        "df = sns.barplot(x=\"neighbourhood_group\", y=\"price\", data=df, hue='room_type', palette=my_pal)\n",
        "\n",
        "# Add annotation to the bars with formatted average price values\n",
        "for p in df.patches:\n",
        "    df.annotate(format(p.get_height(), '.2f'), (p.get_x() + p.get_width() / 2., p.get_height()), ha='center', va='center', size=11, xytext=(0, -12), textcoords='offset points')\n",
        "\n",
        "# Set the x and y labels and title of the plot\n",
        "plt.xlabel('Neighbourhood Group')\n",
        "plt.ylabel('Average Price')\n",
        "plt.title('Average Price by Room Type')\n",
        "\n",
        "# Show the plot\n",
        "plt.show()"
      ]
    },
    {
      "cell_type": "markdown",
      "metadata": {
        "id": "QHF8YVU7Yuh3"
      },
      "source": [
        "##### 1. Why did you pick the specific chart?"
      ]
    },
    {
      "cell_type": "markdown",
      "metadata": {
        "id": "dcxuIMRPYuh3"
      },
      "source": [
        "In the Airbnb 2019 NYC dataset, a bar plot is employed to illustrate the price distribution across various room types. This visualization method facilitates a straightforward comparison of prices across categories, where each room type is depicted by its own bar. The height of each bar corresponds to the range or average price of that room type, allowing viewers to discern pricing discrepancies across different types of accommodations. By presenting these insights, the bar plot aids hosts and guests in making informed decisions aligned with their budget and preferences, offering valuable understanding of pricing dynamics and trends associated with each room type."
      ]
    },
    {
      "cell_type": "markdown",
      "metadata": {
        "id": "GwzvFGzlYuh3"
      },
      "source": [
        "##### 2. What is/are the insight(s) found from the chart?"
      ]
    },
    {
      "cell_type": "markdown",
      "metadata": {
        "id": "uyqkiB8YYuh3"
      },
      "source": [
        "The bar plot visually displays the price ranges and variations across different room types. This allows guests to easily discern the price ranges associated with each room type, aiding them in narrowing down their search and selecting accommodations that suit their budget."
      ]
    },
    {
      "cell_type": "markdown",
      "metadata": {
        "id": "qYpmQ266Yuh3"
      },
      "source": [
        "##### 3. Will the gained insights help creating a positive business impact?\n",
        "Are there any insights that lead to negative growth? Justify with specific reason."
      ]
    },
    {
      "cell_type": "markdown",
      "metadata": {
        "id": "_WtzZ_hCYuh4"
      },
      "source": [
        "The bar plot offers valuable insights into how listing prices are distributed across different room types. Hosts can analyze the price ranges specific to each room type and make informed adjustments to their pricing strategies. This understanding of pricing patterns allows hosts to optimize their prices effectively, attracting guests while maximizing profitability."
      ]
    },
    {
      "cell_type": "markdown",
      "metadata": {
        "id": "OH-pJp9IphqM"
      },
      "source": [
        "#### Chart - 6"
      ]
    },
    {
      "cell_type": "code",
      "execution_count": null,
      "metadata": {
        "id": "kuRf4wtuphqN"
      },
      "outputs": [],
      "source": [
        "# Chart - 6 visualization code\n",
        "# Create figure and axis object.\n",
        "f, ax = plt.subplots(figsize=(10, 8))\n",
        "\n",
        "# Creating strip plot with room_type on x-axis, reviews_per_month on y-axis, and hue as neighbourhood_group.\n",
        "ax = sns.stripplot(x='room_type', y='reviews_per_month', hue='neighbourhood_group', dodge=True, data=df2, palette=['#272932', '#f05d5e', '#0f7173', '#9fc2cc', '#ead94c'])\n",
        "\n",
        "# Setting title of the plot.\n",
        "ax.set_title('Most Reviewed Room Types in Each Neighbourhood Group')\n",
        "\n",
        "# Removing spines on right and bottom sides of plot for clean appearance.\n",
        "sns.despine(right=False, bottom=True)\n",
        "\n",
        "# Show the plot\n",
        "plt.show()"
      ]
    },
    {
      "cell_type": "markdown",
      "metadata": {
        "id": "bbFf2-_FphqN"
      },
      "source": [
        "##### 1. Why did you pick the specific chart?"
      ]
    },
    {
      "cell_type": "markdown",
      "metadata": {
        "id": "loh7H2nzphqN"
      },
      "source": [
        "Using a strip plot, analysts can gain insights into the most reviewed room types in each neighborhood per month in the Airbnb 2019 NYC dataset. This visualization aids hosts in understanding the room types that experience high demand, informing their marketing strategies and investment decisions. It also provides valuable information for guests looking for popular accommodations in specific neighborhoods and time periods."
      ]
    },
    {
      "cell_type": "markdown",
      "metadata": {
        "id": "_ouA3fa0phqN"
      },
      "source": [
        "##### 2. What is/are the insight(s) found from the chart?"
      ]
    },
    {
      "cell_type": "markdown",
      "metadata": {
        "id": "VECbqPI7phqN"
      },
      "source": [
        "* Identifying Popular Room Types: The strip plot displays the most reviewed room types in each neighborhood per month, helping hosts identify popular choices among guests.\n",
        "  \n",
        "* Seasonal Insights: Hosts can observe seasonal trends in room type popularity, enabling adjustments in pricing and availability based on demand fluctuations.\n",
        "  \n",
        "* Tailoring Offerings: The strip plot reveals room type preferences within different neighborhoods, allowing hosts to customize their listings to meet specific guest demands.\n",
        "  \n",
        "* Identifying Outliers: Outliers in the plot indicate room types with exceptionally high or low reviews, offering hosts insights into unique selling points or areas needing improvement.\n",
        "  \n",
        "* Informed Decision-Making: The insights derived from the strip plot empower both hosts and guests to make informed decisions regarding accommodations.\n",
        "  \n",
        "* Enhancing Guest Satisfaction: By offering highly reviewed room types, hosts can enhance the likelihood of providing a positive guest experience."
      ]
    },
    {
      "cell_type": "markdown",
      "metadata": {
        "id": "Seke61FWphqN"
      },
      "source": [
        "##### 3. Will the gained insights help creating a positive business impact?\n",
        "Are there any insights that lead to negative growth? Justify with specific reason."
      ]
    },
    {
      "cell_type": "markdown",
      "metadata": {
        "id": "DW4_bGpfphqN"
      },
      "source": [
        "* Strategic Marketing: Analyzing the most reviewed room types in each neighborhood per month via a strip plot offers hosts valuable insights to refine their marketing strategies and attract a larger guest base.\n",
        "  \n",
        "* Boost in Reservations: By understanding which room types are most popular, hosts can optimize their listings and increase reservations, fostering positive business expansion.\n",
        "  \n",
        "* Embrace Diversity: To mitigate risks associated with limited availability and to cater to diverse guest preferences, hosts should maintain a varied selection of room types.\n",
        "  \n",
        "* Market Adaptation: Adapting to market demands and emerging trends is essential for hosts to sustain growth and avoid stagnation in their business endeavors."
      ]
    },
    {
      "cell_type": "markdown",
      "metadata": {
        "id": "PIIx-8_IphqN"
      },
      "source": [
        "#### Chart - 7"
      ]
    },
    {
      "cell_type": "code",
      "execution_count": null,
      "metadata": {
        "id": "lqAIGUfyphqO"
      },
      "outputs": [],
      "source": [
        "# Chart - 7 visualization code\n",
        "\n",
        "# Grouping dataset by room type and calculate average price\n",
        "room_type_avg_price = df2.groupby('room_type')['price'].mean().reset_index()\n",
        "\n",
        "# Setting style and color palette.\n",
        "sns.set(style='whitegrid')\n",
        "pal=['#f05d5e','#dbc648','#9fc2cc']\n",
        "\n",
        "# Createing bar plot to visualize average price by room type.\n",
        "plt.figure(figsize=(10, 6))\n",
        "ax = sns.barplot(x='room_type', y='price', data=room_type_avg_price, palette = pal)\n",
        "\n",
        "# Adding label to the bars.\n",
        "for p in ax.patches:\n",
        "    ax.annotate(format(p.get_height(), '.2f'), (p.get_x() + p.get_width() / 2., p.get_height()), ha='center', va='center', size=11, xytext=(0, -12), textcoords='offset points')\n",
        "\n",
        "# Setting title and axis labels.\n",
        "plt.title('Average Price by Room Type', fontsize=16)\n",
        "plt.xlabel('Room Type', fontsize=12)\n",
        "plt.ylabel('Average Price', fontsize=12)\n",
        "\n",
        "# Removing top and right spines.\n",
        "sns.despine()\n",
        "\n",
        "# Adjust layout and display plot.\n",
        "plt.tight_layout()\n",
        "plt.show()"
      ]
    },
    {
      "cell_type": "markdown",
      "metadata": {
        "id": "t27r6nlMphqO"
      },
      "source": [
        "##### 1. Why did you pick the specific chart?"
      ]
    },
    {
      "cell_type": "markdown",
      "metadata": {
        "id": "iv6ro40sphqO"
      },
      "source": [
        "Using a bar plot, analysts can gain insights into the average prices of various room types within the Airbnb 2019 NYC dataset. This visualization facilitates understanding of pricing disparities among different accommodation options, empowering hosts and guests to make well-informed decisions aligned with their budget and preferences."
      ]
    },
    {
      "cell_type": "markdown",
      "metadata": {
        "id": "r2jJGEOYphqO"
      },
      "source": [
        "##### 2. What is/are the insight(s) found from the chart?"
      ]
    },
    {
      "cell_type": "markdown",
      "metadata": {
        "id": "Po6ZPi4hphqO"
      },
      "source": [
        "* The bar plot illustrating average prices across room types in the Airbnb 2019 NYC dataset offers valuable insights.\n",
        "* It facilitates straightforward comparisons of average prices, highlighting pricing discrepancies among different types of accommodations.\n",
        "* The chart helps hosts identify popular room types and guides their pricing strategies accordingly.\n",
        "* Guests benefit by being able to assess value through price comparisons across various room types.\n",
        "* This visualization provides a comprehensive view of the pricing landscape within the NYC Airbnb market.\n",
        "* It supports market analysis and decision-making by revealing pricing trends and patterns.\n",
        "* The insights derived from the bar plot contribute to informed pricing strategies, enhanced guest satisfaction, and a deeper understanding of market dynamics in the Airbnb 2019 NYC dataset."
      ]
    },
    {
      "cell_type": "markdown",
      "metadata": {
        "id": "b0JNsNcRphqO"
      },
      "source": [
        "##### 3. Will the gained insights help creating a positive business impact?\n",
        "Are there any insights that lead to negative growth? Justify with specific reason."
      ]
    },
    {
      "cell_type": "markdown",
      "metadata": {
        "id": "xvSq8iUTphqO"
      },
      "source": [
        "* Analyzing the average prices by room types in the Airbnb 2019 NYC dataset provides valuable insights that can positively impact business strategies.\n",
        "* Hosts can refine their pricing strategies based on these insights to achieve a competitive edge in the market.\n",
        "* Understanding average prices by room types empowers hosts to make informed decisions aimed at attracting more guests and boosting bookings.\n",
        "* However, there is a potential downside if certain room types consistently command high prices, potentially deterring guests and reducing demand.\n",
        "* Hosts must find a balance between competitiveness and profitability, taking into account market dynamics and guest preferences.\n",
        "* Regularly monitoring and adjusting prices is crucial for sustaining business growth and maintaining competitiveness in the market."
      ]
    },
    {
      "cell_type": "markdown",
      "metadata": {
        "id": "BZR9WyysphqO"
      },
      "source": [
        "#### Chart - 8"
      ]
    },
    {
      "cell_type": "markdown",
      "metadata": {
        "id": "W_zU4gYf2xYe"
      },
      "source": [
        "## How many reviews did Airbnb listings in NYC receive in 2019, categorized by room type?"
      ]
    },
    {
      "cell_type": "code",
      "execution_count": null,
      "metadata": {
        "id": "TdPTWpAVphqO"
      },
      "outputs": [],
      "source": [
        "# Chart - 8 visualization code\n",
        "# Setting figure size.\n",
        "plt.figure(figsize=(10, 6))\n",
        "\n",
        "# Setting seaborn theme to whitegrid.\n",
        "sns.set_theme(style=\"whitegrid\")\n",
        "\n",
        "\n",
        "# Custom color palette.\n",
        "colors = ['#f05d5e','#0f7173','#dbc648']\n",
        "\n",
        "# Creating barr plot.\n",
        "ax = sns.barplot(x=\"room_type\", y=\"number_of_reviews\", data=df2, palette=colors)\n",
        "\n",
        "# Settingtitle and axis label.\n",
        "plt.title('Number of Reviews by Room Type', fontsize=16)\n",
        "plt.xlabel('Room Type', fontsize=12)\n",
        "plt.ylabel('Number of Reviews', fontsize=12)\n",
        "\n",
        "# Removing top and right spine.\n",
        "sns.despine()\n",
        "\n",
        "# Adjusting plot layout.\n",
        "plt.tight_layout()\n",
        "\n",
        "# Show the plot\n",
        "plt.show()"
      ]
    },
    {
      "cell_type": "markdown",
      "metadata": {
        "id": "jj7wYXLtphqO"
      },
      "source": [
        "##### 1. Why did you pick the specific chart?"
      ]
    },
    {
      "cell_type": "markdown",
      "metadata": {
        "id": "Ob8u6rCTphqO"
      },
      "source": [
        "Using a bar plot, analysts can gain insights into the distribution of reviews among different room types in the Airbnb 2019 NYC dataset. This visualization aids in understanding the level of engagement and feedback for each room type, providing valuable information for hosts and guests to make informed decisions based on the popularity and perceived quality of accommodations."
      ]
    },
    {
      "cell_type": "markdown",
      "metadata": {
        "id": "eZrbJ2SmphqO"
      },
      "source": [
        "##### 2. What is/are the insight(s) found from the chart?"
      ]
    },
    {
      "cell_type": "markdown",
      "metadata": {
        "id": "mZtgC_hjphqO"
      },
      "source": [
        "* Analyzing the number of reviews by room types in the Airbnb 2019 NYC dataset yields valuable insights.\n",
        "* The bar plot visually represents the popularity of different room types based on review counts, reflecting guest preferences and satisfaction levels.\n",
        "* Hosts can utilize this data to assess listing performance and make informed decisions about room types.\n",
        "* The number of reviews acts as social proof for guests, influencing their booking decisions and providing insights into accommodation quality and reliability.\n",
        "* Understanding room type popularity enables hosts to optimize their offerings and better meet guest preferences, thereby enhancing the overall Airbnb experience in NYC."
      ]
    },
    {
      "cell_type": "markdown",
      "metadata": {
        "id": "rFu4xreNphqO"
      },
      "source": [
        "##### 3. Will the gained insights help creating a positive business impact?\n",
        "Are there any insights that lead to negative growth? Justify with specific reason."
      ]
    },
    {
      "cell_type": "markdown",
      "metadata": {
        "id": "ey_0qi68phqO"
      },
      "source": [
        "* Analyzing the number of reviews by room types in the Airbnb 2019 NYC dataset provides valuable business insights.\n",
        "* Higher review counts typically indicate increased bookings and reflect guest satisfaction and preferences.\n",
        "* Positive reviews enhance hosts' reputation and credibility, attracting more guests and boosting bookings.\n",
        "* Managing negative reviews effectively is crucial to maintaining a positive reputation.\n",
        "* A lack of diversity in listings or persistent negative feedback can result in reduced growth and bookings.\n",
        "* Achieving a balanced reputation through quality accommodations and exceptional guest experiences is essential for sustainable business success."
      ]
    },
    {
      "cell_type": "markdown",
      "metadata": {
        "id": "YJ55k-q6phqO"
      },
      "source": [
        "#### Chart - 9"
      ]
    },
    {
      "cell_type": "code",
      "execution_count": null,
      "metadata": {
        "id": "B2aS4O1ophqO"
      },
      "outputs": [],
      "source": [
        "# Chart - 9 visualization code\n",
        "# Setting figure size.\n",
        "plt.figure(figsize=(13, 7))\n",
        "\n",
        "# Setting the title.\n",
        "plt.title(\"Room Type on Neighbourhood Group\")\n",
        "\n",
        "# Define color palette.\n",
        "colors = ['#41d3bd', '#f05d5e', '#272932']\n",
        "\n",
        "# Set theme and color palette for plot.\n",
        "sns.set_theme(style=\"whitegrid\", palette=colors)\n",
        "\n",
        "# Create countplot showing distribution of room types in each neighbourhood group.\n",
        "sns.countplot(x=df2.neighbourhood_group, hue=df2.room_type)\n",
        "\n",
        "plt.xlabel('Neighbourhood Group')\n",
        "plt.ylabel('Count')\n",
        "\n",
        "# Adding  legend for the room type.\n",
        "plt.legend(title='Room Type')\n",
        "\n",
        "# Adjusting plot layout\n",
        "plt.tight_layout()\n",
        "\n",
        "# Display the plot\n",
        "plt.show()"
      ]
    },
    {
      "cell_type": "markdown",
      "metadata": {
        "id": "gCFgpxoyphqP"
      },
      "source": [
        "##### 1. Why did you pick the specific chart?"
      ]
    },
    {
      "cell_type": "markdown",
      "metadata": {
        "id": "TVxDimi2phqP"
      },
      "source": [
        "The countplot was chosen to display the distribution of room types within each neighborhood group in the Airbnb 2019 NYC dataset. This visualization effectively illustrates how room types vary across different neighborhood groups by counting each room type within its respective neighborhood group. It facilitates straightforward comparison and identification of predominant room types within each neighborhood group."
      ]
    },
    {
      "cell_type": "markdown",
      "metadata": {
        "id": "OVtJsKN_phqQ"
      },
      "source": [
        "##### 2. What is/are the insight(s) found from the chart?"
      ]
    },
    {
      "cell_type": "markdown",
      "metadata": {
        "id": "ngGi97qjphqQ"
      },
      "source": [
        "* The chart offers insights into how room types are distributed across various neighborhood groups.\n",
        "* It facilitates identification of the predominant room type within each neighborhood group.\n",
        "* The chart highlights any disparities in room type distribution among different neighborhood groups."
      ]
    },
    {
      "cell_type": "markdown",
      "metadata": {
        "id": "lssrdh5qphqQ"
      },
      "source": [
        "##### 3. Will the gained insights help creating a positive business impact?\n",
        "Are there any insights that lead to negative growth? Justify with specific reason."
      ]
    },
    {
      "cell_type": "markdown",
      "metadata": {
        "id": "tBpY5ekJphqQ"
      },
      "source": [
        "* The insights gleaned can have a positive business impact by guiding marketing strategies and target audience selection.\n",
        "* They enable hosts to optimize pricing strategies and revenue generation by aligning with prevalent room types in each neighborhood group.\n",
        "* These insights aid in effective resource allocation and inventory management based on demand patterns.\n",
        "* While insights from the chart do not directly result in negative growth, a restricted variety of room types within a neighborhood group may prompt hosts to diversify their offerings or explore alternative markets to offset potential negative impacts."
      ]
    },
    {
      "cell_type": "markdown",
      "metadata": {
        "id": "U2RJ9gkRphqQ"
      },
      "source": [
        "#### Chart - 10"
      ]
    },
    {
      "cell_type": "code",
      "execution_count": null,
      "metadata": {
        "id": "GM7a4YP4phqQ"
      },
      "outputs": [],
      "source": [
        "# Chart - 10 visualization code\n",
        "\n",
        "# Scatter plot for analyzing correlation between number and price of reviews.\n",
        "plt.figure(figsize=(10, 8))\n",
        "sns.scatterplot(x='number_of_reviews', y='price', data=df2, alpha=0.35, color = 'red')\n",
        "\n",
        "# Define the label.\n",
        "plt.xlabel('Number of Reviews')\n",
        "plt.ylabel('Price')\n",
        "plt.title('Price vs. Number of Reviews of Airbnb Rentals')\n",
        "\n",
        "#changing grid design.\n",
        "plt.grid(True, linestyle='--', alpha=0.5)\n",
        "plt.tight_layout()\n",
        "\n",
        "# Removing top and right spine.\n",
        "sns.despine()\n",
        "\n",
        "#display the plot\n",
        "plt.show()"
      ]
    },
    {
      "cell_type": "markdown",
      "metadata": {
        "id": "1M8mcRywphqQ"
      },
      "source": [
        "##### 1. Why did you pick the specific chart?"
      ]
    },
    {
      "cell_type": "markdown",
      "metadata": {
        "id": "8agQvks0phqQ"
      },
      "source": [
        "The scatter plot was chosen to analyze the correlation between price and the number of reviews for Airbnb rentals in the dataset. This visualization method enables the examination of how these two continuous variables, \"price\" and \"number_of_reviews,\" relate to each other by plotting each data point as a dot on the graph. It provides a clear visualization to identify patterns or trends in their relationship."
      ]
    },
    {
      "cell_type": "markdown",
      "metadata": {
        "id": "tgIPom80phqQ"
      },
      "source": [
        "##### 2. What is/are the insight(s) found from the chart?"
      ]
    },
    {
      "cell_type": "markdown",
      "metadata": {
        "id": "Qp13pnNzphqQ"
      },
      "source": [
        "* The scatter plot depicts the correlation between Airbnb rental prices and the number of reviews.\n",
        "* It aids in identifying patterns or trends that may exist between these two variables.\n",
        "* The plot can also highlight outliers or unusual observations in the dataset."
      ]
    },
    {
      "cell_type": "markdown",
      "metadata": {
        "id": "JMzcOPDDphqR"
      },
      "source": [
        "##### 3. Will the gained insights help creating a positive business impact?\n",
        "Are there any insights that lead to negative growth? Justify with specific reason."
      ]
    },
    {
      "cell_type": "markdown",
      "metadata": {
        "id": "R4Ka1PC2phqR"
      },
      "source": [
        "* The insights gained can assist hosts in refining their pricing strategy by leveraging the relationship between price and the number of reviews.\n",
        "* It empowers hosts to prioritize reputation management by fostering reviews and actively monitoring guest feedback.\n",
        "* These insights can pinpoint opportunities for enhancing guest satisfaction and boosting positive reviews.\n",
        "* The lack of a notable correlation between price and the number of reviews may signal a necessity to reevaluate the rental's value proposition and address underlying concerns effectively."
      ]
    },
    {
      "cell_type": "markdown",
      "metadata": {
        "id": "n3dbpmDWp1ck"
      },
      "source": [
        "#### Chart - 12"
      ]
    },
    {
      "cell_type": "code",
      "execution_count": null,
      "metadata": {
        "id": "bwevp1tKp1ck"
      },
      "outputs": [],
      "source": [
        "# Chart - 12 visualization code\n",
        "# Creating series of top 30 hosts by review rate.\n",
        "review_rate = df2.groupby('host_id')['reviews_per_month'].mean().head(40).reset_index()\n",
        "review_rate.sort_values('reviews_per_month', ascending=False, inplace=True)\n",
        "review_rate = review_rate.iloc[:, 0]\n",
        "\n",
        "# Creating  new dataframe containing information of only these top 30 hosts.\n",
        "Top_host_by_review_rate = df2.loc[df2['host_id'].isin(review_rate)]\n",
        "Top_host_by_review_rate = Top_host_by_review_rate.sort_values('reviews_per_month')\n",
        "\n",
        "# Defining custom Palete.\n",
        "custom_colors = ['#272932', '#f05d5e', '#0f7173', '#9fc2cc', '#dbc648']\n",
        "\n",
        "# Creating a catplot to visualize review rates of these top 30 hosts by room type.\n",
        "fig = sns.catplot(data=Top_host_by_review_rate, x='host_id', y='reviews_per_month',col='room_type', kind='bar', height=2, aspect=8, palette = custom_colors)\n",
        "fig.set_xticklabels(rotation=90)\n",
        "fig.fig.set_size_inches(20, 10)"
      ]
    },
    {
      "cell_type": "markdown",
      "metadata": {
        "id": "ylSl6qgtp1ck"
      },
      "source": [
        "##### 1. Why did you pick the specific chart?"
      ]
    },
    {
      "cell_type": "markdown",
      "metadata": {
        "id": "m2xqNkiQp1ck"
      },
      "source": [
        "The catplot bar chart was selected to visualize the review rates of the top 30 hosts by room type in the Airbnb dataset. This chart enables straightforward comparison of review rates among these hosts across different room types, facilitating the identification of any variations or patterns."
      ]
    },
    {
      "cell_type": "markdown",
      "metadata": {
        "id": "ZWILFDl5p1ck"
      },
      "source": [
        "##### 2. What is/are the insight(s) found from the chart?"
      ]
    },
    {
      "cell_type": "markdown",
      "metadata": {
        "id": "x-lUsV2mp1ck"
      },
      "source": [
        "* Room type comparison: The chart facilitates a direct comparison of review rates among the top hosts across various room types, including entire homes/apartments, private rooms, and shared rooms.\n",
        "\n",
        "* Review rate disparities: The chart illustrates variations in review rates among the top hosts, indicating differences in performance across different room types."
      ]
    },
    {
      "cell_type": "markdown",
      "metadata": {
        "id": "M7G43BXep1ck"
      },
      "source": [
        "##### 3. Will the gained insights help creating a positive business impact?\n",
        "Are there any insights that lead to negative growth? Justify with specific reason."
      ]
    },
    {
      "cell_type": "markdown",
      "metadata": {
        "id": "5wwDJXsLp1cl"
      },
      "source": [
        "* Enhancing quality: Hosts can pinpoint improvement opportunities by reviewing rates and concentrate on elevating guest satisfaction in room types with lower rates.\n",
        "  \n",
        "* Competitive edge: Higher review rates can serve as a competitive advantage in marketing campaigns, attracting more guests and fostering a robust reputation."
      ]
    },
    {
      "cell_type": "markdown",
      "metadata": {
        "id": "vxh5RYO72xYh"
      },
      "source": [
        "#### Chart - 13"
      ]
    },
    {
      "cell_type": "code",
      "execution_count": null,
      "metadata": {
        "id": "11tajnFa2xYi"
      },
      "outputs": [],
      "source": [
        "# Chart - 12 visualization code\n",
        "columns = ['price', 'minimum_nights', 'number_of_reviews', 'availability_365']\n",
        "custom_colors = ['#f05d5e', '#481d24', '#9fc2cc']\n",
        "\n",
        "# Creating dataframe with selected columns.\n",
        "data = df2[columns]\n",
        "\n",
        "# Normalize data for better visualization.\n",
        "data_normalized = (data - data.mean()) / data.std()\n",
        "\n",
        "# Adding target column for color mapping.\n",
        "data_normalized['target'] = df2['room_type']\n",
        "\n",
        "# Creating scatter matrix plot.\n",
        "sns.set_theme(style=\"ticks\")\n",
        "sns.pairplot(data_normalized, hue='target', palette=custom_colors)\n",
        "\n",
        "# Showing plot.\n",
        "plt.show()"
      ]
    },
    {
      "cell_type": "markdown",
      "metadata": {
        "id": "dbWoVvzX2xYi"
      },
      "source": [
        "##### 1. Why did you pick the specific chart?"
      ]
    },
    {
      "cell_type": "markdown",
      "metadata": {
        "id": "zTkBbgHI2xYi"
      },
      "source": [
        "The pairplot was selected to visualize the relationships between multiple variables (price, minimum nights, number of reviews, and availability) in a scatter matrix. This choice allows for comprehensive exploration of correlations, distributions, and patterns among these variables."
      ]
    },
    {
      "cell_type": "markdown",
      "metadata": {
        "id": "iagQjwrJ2xYi"
      },
      "source": [
        "##### 2. What is/are the insight(s) found from the chart?"
      ]
    },
    {
      "cell_type": "markdown",
      "metadata": {
        "id": "m1zI8Ki32xYi"
      },
      "source": [
        "* Exploring relationships: The pairplot facilitates the examination of relationships between various variables, such as identifying correlations between price and availability, or between the number of reviews and minimum nights.\n",
        "\n",
        "* Variable distributions: Along the diagonal, the chart displays distributions of each variable. This feature aids in assessing whether variables adhere to a normal distribution or display skewness."
      ]
    },
    {
      "cell_type": "markdown",
      "metadata": {
        "id": "tQbYNrG52xYi"
      },
      "source": [
        "##### 3. Will the gained insights help creating a positive business impact?\n",
        "Are there any insights that lead to negative growth? Justify with specific reason."
      ]
    },
    {
      "cell_type": "markdown",
      "metadata": {
        "id": "rdCmO5Kf2xYi"
      },
      "source": [
        "Pricing strategy: By examining the correlation between price and other variables, businesses can refine their pricing strategies. For instance, they can ascertain whether higher prices align with longer minimum nights or higher availability.\n",
        "\n",
        "Operational decisions: Understanding how minimum nights, availability, and number of reviews interact can guide operational decisions. This insight supports adjustments to minimum stay requirements and management of availability to enhance guest satisfaction and optimize booking opportunities."
      ]
    },
    {
      "cell_type": "markdown",
      "metadata": {
        "id": "NC_X3p0fY2L0"
      },
      "source": [
        "#### Chart - 14 - Correlation Heatmap"
      ]
    },
    {
      "cell_type": "code",
      "execution_count": null,
      "metadata": {
        "id": "xyC9zolEZNRQ"
      },
      "outputs": [],
      "source": [
        "# Correlation Heatmap visualization code"
      ]
    },
    {
      "cell_type": "markdown",
      "metadata": {
        "id": "UV0SzAkaZNRQ"
      },
      "source": [
        "##### 1. Why did you pick the specific chart?"
      ]
    },
    {
      "cell_type": "markdown",
      "metadata": {
        "id": "DVPuT8LYZNRQ"
      },
      "source": [
        "Answer Here."
      ]
    },
    {
      "cell_type": "markdown",
      "metadata": {
        "id": "YPEH6qLeZNRQ"
      },
      "source": [
        "##### 2. What is/are the insight(s) found from the chart?"
      ]
    },
    {
      "cell_type": "markdown",
      "metadata": {
        "id": "bfSqtnDqZNRR"
      },
      "source": [
        "Answer Here"
      ]
    },
    {
      "cell_type": "markdown",
      "metadata": {
        "id": "q29F0dvdveiT"
      },
      "source": [
        "#### Chart - 15 - Pair Plot"
      ]
    },
    {
      "cell_type": "code",
      "execution_count": null,
      "metadata": {
        "id": "o58-TEIhveiU"
      },
      "outputs": [],
      "source": [
        "# Pair Plot visualization code\n",
        "# Generate a pairplot using seaborn to visualize the relationships between various variables in the Airbnb NYC dataset.\n",
        "sns.pairplot(df2)\n",
        "\n",
        "# Show the plot\n",
        "plt.show()"
      ]
    },
    {
      "cell_type": "markdown",
      "metadata": {
        "id": "EXh0U9oCveiU"
      },
      "source": [
        "##### 1. Why did you pick the specific chart?"
      ]
    },
    {
      "cell_type": "markdown",
      "metadata": {
        "id": "eMmPjTByveiU"
      },
      "source": [
        "The pair plot was selected to visually explore the relationships between various variables in the Airbnb NYC dataset in a clear and comprehensive manner."
      ]
    },
    {
      "cell_type": "markdown",
      "metadata": {
        "id": "22aHeOlLveiV"
      },
      "source": [
        "##### 2. What is/are the insight(s) found from the chart?"
      ]
    },
    {
      "cell_type": "markdown",
      "metadata": {
        "id": "uPQ8RGwHveiV"
      },
      "source": [
        "* The pair plot visually depicts relationships between pairs of variables within the Airbnb 2019 NYC dataset.\n",
        "* It includes scatter plots for numeric variables and histograms for categorical variables, offering a comprehensive view of the data.\n",
        "* Analysis of scatter plots can reveal patterns like linear relationships, indicating strong positive or negative correlations between variables.\n",
        "* Clusters observed in scatter plots may suggest subgroups with similar characteristics within the dataset.\n",
        "* Outliers, depicted as data points significantly deviating from the overall pattern, are easily identifiable in the pair plot.\n",
        "* This visualization provides insights into variable correlations and distributions, facilitating the discovery of potential associations and dependencies.\n",
        "* Such insights are instrumental for in-depth analysis and decision-making, including feature selection for predictive modeling and understanding factors influencing specific outcomes."
      ]
    },
    {
      "cell_type": "markdown",
      "metadata": {
        "id": "JcMwzZxoAimU"
      },
      "source": [
        "## **5. Solution to Business Objective**"
      ]
    },
    {
      "cell_type": "markdown",
      "metadata": {
        "id": "8G2x9gOozGDZ"
      },
      "source": [
        "#### What do you suggest the client to achieve Business Objective ?\n",
        "Explain Briefly."
      ]
    },
    {
      "cell_type": "markdown",
      "metadata": {
        "id": "pASKb0qOza21"
      },
      "source": [
        "Based on the analysis of the NYC Airbnb dataset, here are tailored recommendations to help achieve your business objectives:\n",
        "\n",
        "1. **Optimize Pricing Strategy**: Conduct a detailed analysis of pricing trends based on location, property type, and amenities. Adjust prices strategically to maximize occupancy rates and profitability. Consider implementing dynamic pricing strategies to respond to demand fluctuations and seasonal changes effectively.\n",
        "\n",
        "2. **Enhance Listing Quality**: Improve the attractiveness of listings by enhancing descriptions, upgrading photos, and emphasizing unique amenities and features. Ensure all information is accurate and comprehensive to appeal to potential guests and increase competitiveness in the market.\n",
        "\n",
        "3. **Enhance Customer Experience**: Prioritize exceptional customer service to ensure a positive guest experience. Respond promptly to inquiries and resolve issues efficiently. Encourage guests to leave reviews to enhance credibility and attract more bookings.\n",
        "\n",
        "4. **Maintain Property Availability**: Ensure consistent availability of properties throughout the year, especially during peak tourist seasons and local events. Plan maintenance schedules carefully to minimize disruptions and maximize occupancy rates.\n",
        "\n",
        "5. **Monitor Competitor Activity**: Stay informed about competitors' offerings, pricing strategies, and guest reviews. Adjust your marketing and pricing strategies accordingly to maintain competitiveness and capture potential guests effectively.\n",
        "\n",
        "6. **Implement Special Offers and Discounts**: Introduce promotional offers, discounts, or loyalty programs to attract guests and encourage repeat bookings. Monitor the impact of these initiatives on occupancy rates and profitability to optimize outcomes.\n",
        "\n",
        "7. **Stay Compliant with Regulations**: Stay updated on local regulations and ensure full compliance with tax requirements, licensing obligations, and zoning laws for short-term rentals. Adhering to legal standards prevents operational disruptions and potential legal issues.\n",
        "\n",
        "8. **Seek Guest Feedback**: Continuously seek feedback from guests to identify areas for improvement and address recurring issues promptly. Use guest insights to enhance overall guest satisfaction and refine property management practices.\n",
        "\n",
        "9. **Foster Positive Community Relations**: Establish positive relationships with the local community by respecting neighborhood norms and regulations. Encourage guests to be considerate and mindful of local surroundings to maintain good community relations.\n",
        "\n",
        "By implementing these strategies, you can optimize business operations, attract more guests, and achieve your goals of maximizing occupancy rates, profitability, and guest satisfaction in the competitive NYC Airbnb market."
      ]
    },
    {
      "cell_type": "markdown",
      "metadata": {
        "id": "gCX9965dhzqZ"
      },
      "source": [
        "# **Conclusion**"
      ]
    },
    {
      "cell_type": "markdown",
      "metadata": {
        "id": "Fjb1IsQkh3yE"
      },
      "source": [
        "The 2019 Airbnb NYC project aimed to conduct a thorough analysis of the short-term rental market in New York City using a dataset encompassing diverse attributes of Airbnb listings. Through this exploration, significant insights into industry trends and patterns were uncovered.\n",
        "\n",
        "Initially, the dataset revealed a wide array of unique listings identified by distinct IDs, each with creatively branded names reflecting host ingenuity in presenting their accommodations. Comprehensive data on host IDs and names provided insights into the distribution of hosts and their participation levels in the Airbnb market.\n",
        "\n",
        "Location emerged as a pivotal factor influencing market dynamics, with detailed information on both neighborhood groups and specific neighborhoods for each listing. This enabled an examination of area popularity and facilitated an understanding of listing distribution across the city. Geographic coordinates (latitude and longitude) allowed for visualizing the spatial distribution of listings, pinpointing areas with concentrated or sparse Airbnb offerings.\n",
        "\n",
        "Insights into room types underscored the diversity of accommodations available on Airbnb, categorizing listings into types such as entire homes, private rooms, or shared rooms. This analysis illuminated host and guest preferences, offering valuable information on the variety of options available to travelers in NYC.\n",
        "\n",
        "Price analysis was integral, impacting both hosts and guests directly. The dataset included pricing details for each listing, facilitating an examination of price ranges and distributions across different neighborhoods and room types. This information provided clarity on areas with higher-priced accommodations and shed light on factors influencing pricing decisions.\n",
        "\n",
        "Minimum nights, indicating the required booking duration for guests, provided insights into host preferences and demand for longer stays in the Airbnb market.\n",
        "\n",
        "The number of reviews and last review date served as crucial metrics for evaluating listing popularity and performance. Analyzing review counts offered insights into guest engagement and satisfaction levels, while reviews per month indicated booking frequency and overall demand for specific listings.\n",
        "\n",
        "The host listings count metric tallied the total number of listings per host, allowing identification of hosts managing multiple listings and assessing the involvement of professional hosts in the market.\n",
        "\n",
        "Lastly, availability 365 captured listing availability throughout the year, aiding in understanding market seasonality and identifying periods of high demand and limited availability.\n",
        "\n",
        "In summary, the 2019 Airbnb NYC project delivered an in-depth analysis of New York City's short-term rental market. By examining attributes such as listing details, host information, location, pricing, reviews, and availability, the study provided comprehensive insights into industry dynamics, trends, and patterns. This information is valuable for stakeholders including hosts, guests, policymakers, and researchers, informing decision-making and enhancing understanding of short-term rental impacts on the city."
      ]
    },
    {
      "cell_type": "markdown",
      "metadata": {
        "id": "gIfDvo9L0UH2"
      },
      "source": [
        "### ***Hurrah! You have successfully completed your EDA Capstone Project !!!***"
      ]
    }
  ],
  "metadata": {
    "colab": {
      "collapsed_sections": [
        "MSa1f5Uengrz",
        "KSlN3yHqYklG",
        "4Of9eVA-YrdM",
        "iky9q4vBYrdO",
        "bamQiAODYuh1",
        "BZR9WyysphqO",
        "UV0SzAkaZNRQ",
        "YPEH6qLeZNRQ",
        "gIfDvo9L0UH2"
      ],
      "private_outputs": true,
      "provenance": [],
      "include_colab_link": true
    },
    "kernelspec": {
      "display_name": "Python 3 (ipykernel)",
      "language": "python",
      "name": "python3"
    },
    "language_info": {
      "codemirror_mode": {
        "name": "ipython",
        "version": 3
      },
      "file_extension": ".py",
      "mimetype": "text/x-python",
      "name": "python",
      "nbconvert_exporter": "python",
      "pygments_lexer": "ipython3",
      "version": "3.12.3"
    }
  },
  "nbformat": 4,
  "nbformat_minor": 0
}